{
 "cells": [
  {
   "cell_type": "markdown",
   "id": "c6cd98dd",
   "metadata": {},
   "source": [
    "### Francisco Antonio Molina Bakhos\n",
    "\n",
    "# Proyecto Kaggle: Churn Score"
   ]
  },
  {
   "cell_type": "markdown",
   "id": "873be44b",
   "metadata": {},
   "source": [
    "En primer lugar, vamos a ver de qué va nuestro dataset y vamos a tratar de limpiarlo de la mejor manera posible minimizando la pérdida de información"
   ]
  },
  {
   "cell_type": "code",
   "execution_count": 6,
   "id": "58178fe2",
   "metadata": {},
   "outputs": [
    {
     "data": {
      "text/html": [
       "<div>\n",
       "<style scoped>\n",
       "    .dataframe tbody tr th:only-of-type {\n",
       "        vertical-align: middle;\n",
       "    }\n",
       "\n",
       "    .dataframe tbody tr th {\n",
       "        vertical-align: top;\n",
       "    }\n",
       "\n",
       "    .dataframe thead th {\n",
       "        text-align: right;\n",
       "    }\n",
       "</style>\n",
       "<table border=\"1\" class=\"dataframe\">\n",
       "  <thead>\n",
       "    <tr style=\"text-align: right;\">\n",
       "      <th></th>\n",
       "      <th>customer_id</th>\n",
       "      <th>Name</th>\n",
       "      <th>age</th>\n",
       "      <th>gender</th>\n",
       "      <th>security_no</th>\n",
       "      <th>region_category</th>\n",
       "      <th>membership_category</th>\n",
       "      <th>joining_date</th>\n",
       "      <th>joined_through_referral</th>\n",
       "      <th>referral_id</th>\n",
       "      <th>preferred_offer_types</th>\n",
       "      <th>medium_of_operation</th>\n",
       "      <th>internet_option</th>\n",
       "      <th>last_visit_time</th>\n",
       "      <th>days_since_last_login</th>\n",
       "      <th>avg_time_spent</th>\n",
       "      <th>avg_transaction_value</th>\n",
       "      <th>avg_frequency_login_days</th>\n",
       "      <th>points_in_wallet</th>\n",
       "      <th>used_special_discount</th>\n",
       "      <th>offer_application_preference</th>\n",
       "      <th>past_complaint</th>\n",
       "      <th>complaint_status</th>\n",
       "      <th>feedback</th>\n",
       "      <th>churn_risk_score</th>\n",
       "    </tr>\n",
       "  </thead>\n",
       "  <tbody>\n",
       "    <tr>\n",
       "      <th>0</th>\n",
       "      <td>fffe4300490044003600300030003800</td>\n",
       "      <td>Pattie Morrisey</td>\n",
       "      <td>18</td>\n",
       "      <td>F</td>\n",
       "      <td>XW0DQ7H</td>\n",
       "      <td>Village</td>\n",
       "      <td>Platinum Membership</td>\n",
       "      <td>2017-08-17</td>\n",
       "      <td>No</td>\n",
       "      <td>xxxxxxxx</td>\n",
       "      <td>Gift Vouchers/Coupons</td>\n",
       "      <td>?</td>\n",
       "      <td>Wi-Fi</td>\n",
       "      <td>16:08:02</td>\n",
       "      <td>17</td>\n",
       "      <td>300.63</td>\n",
       "      <td>53005.25</td>\n",
       "      <td>17.0</td>\n",
       "      <td>781.75</td>\n",
       "      <td>Yes</td>\n",
       "      <td>Yes</td>\n",
       "      <td>No</td>\n",
       "      <td>Not Applicable</td>\n",
       "      <td>Products always in Stock</td>\n",
       "      <td>2</td>\n",
       "    </tr>\n",
       "    <tr>\n",
       "      <th>1</th>\n",
       "      <td>fffe43004900440032003100300035003700</td>\n",
       "      <td>Traci Peery</td>\n",
       "      <td>32</td>\n",
       "      <td>F</td>\n",
       "      <td>5K0N3X1</td>\n",
       "      <td>City</td>\n",
       "      <td>Premium Membership</td>\n",
       "      <td>2017-08-28</td>\n",
       "      <td>?</td>\n",
       "      <td>CID21329</td>\n",
       "      <td>Gift Vouchers/Coupons</td>\n",
       "      <td>Desktop</td>\n",
       "      <td>Mobile_Data</td>\n",
       "      <td>12:38:13</td>\n",
       "      <td>16</td>\n",
       "      <td>306.34</td>\n",
       "      <td>12838.38</td>\n",
       "      <td>10.0</td>\n",
       "      <td>NaN</td>\n",
       "      <td>Yes</td>\n",
       "      <td>No</td>\n",
       "      <td>Yes</td>\n",
       "      <td>Solved</td>\n",
       "      <td>Quality Customer Care</td>\n",
       "      <td>1</td>\n",
       "    </tr>\n",
       "    <tr>\n",
       "      <th>2</th>\n",
       "      <td>fffe4300490044003100390032003600</td>\n",
       "      <td>Merideth Mcmeen</td>\n",
       "      <td>44</td>\n",
       "      <td>F</td>\n",
       "      <td>1F2TCL3</td>\n",
       "      <td>Town</td>\n",
       "      <td>No Membership</td>\n",
       "      <td>2016-11-11</td>\n",
       "      <td>Yes</td>\n",
       "      <td>CID12313</td>\n",
       "      <td>Gift Vouchers/Coupons</td>\n",
       "      <td>Desktop</td>\n",
       "      <td>Wi-Fi</td>\n",
       "      <td>22:53:21</td>\n",
       "      <td>14</td>\n",
       "      <td>516.16</td>\n",
       "      <td>21027.00</td>\n",
       "      <td>22.0</td>\n",
       "      <td>500.69</td>\n",
       "      <td>No</td>\n",
       "      <td>Yes</td>\n",
       "      <td>Yes</td>\n",
       "      <td>Solved in Follow-up</td>\n",
       "      <td>Poor Website</td>\n",
       "      <td>5</td>\n",
       "    </tr>\n",
       "    <tr>\n",
       "      <th>3</th>\n",
       "      <td>fffe43004900440036003000330031003600</td>\n",
       "      <td>Eufemia Cardwell</td>\n",
       "      <td>37</td>\n",
       "      <td>M</td>\n",
       "      <td>VJGJ33N</td>\n",
       "      <td>City</td>\n",
       "      <td>No Membership</td>\n",
       "      <td>2016-10-29</td>\n",
       "      <td>Yes</td>\n",
       "      <td>CID3793</td>\n",
       "      <td>Gift Vouchers/Coupons</td>\n",
       "      <td>Desktop</td>\n",
       "      <td>Mobile_Data</td>\n",
       "      <td>15:57:50</td>\n",
       "      <td>11</td>\n",
       "      <td>53.27</td>\n",
       "      <td>25239.56</td>\n",
       "      <td>6.0</td>\n",
       "      <td>567.66</td>\n",
       "      <td>No</td>\n",
       "      <td>Yes</td>\n",
       "      <td>Yes</td>\n",
       "      <td>Unsolved</td>\n",
       "      <td>Poor Website</td>\n",
       "      <td>5</td>\n",
       "    </tr>\n",
       "    <tr>\n",
       "      <th>4</th>\n",
       "      <td>fffe43004900440031003900350030003600</td>\n",
       "      <td>Meghan Kosak</td>\n",
       "      <td>31</td>\n",
       "      <td>F</td>\n",
       "      <td>SVZXCWB</td>\n",
       "      <td>City</td>\n",
       "      <td>No Membership</td>\n",
       "      <td>2017-09-12</td>\n",
       "      <td>No</td>\n",
       "      <td>xxxxxxxx</td>\n",
       "      <td>Credit/Debit Card Offers</td>\n",
       "      <td>Smartphone</td>\n",
       "      <td>Mobile_Data</td>\n",
       "      <td>15:46:44</td>\n",
       "      <td>20</td>\n",
       "      <td>113.13</td>\n",
       "      <td>24483.66</td>\n",
       "      <td>16.0</td>\n",
       "      <td>663.06</td>\n",
       "      <td>No</td>\n",
       "      <td>Yes</td>\n",
       "      <td>Yes</td>\n",
       "      <td>Solved</td>\n",
       "      <td>Poor Website</td>\n",
       "      <td>5</td>\n",
       "    </tr>\n",
       "  </tbody>\n",
       "</table>\n",
       "</div>"
      ],
      "text/plain": [
       "                            customer_id              Name  age gender  \\\n",
       "0      fffe4300490044003600300030003800   Pattie Morrisey   18      F   \n",
       "1  fffe43004900440032003100300035003700       Traci Peery   32      F   \n",
       "2      fffe4300490044003100390032003600   Merideth Mcmeen   44      F   \n",
       "3  fffe43004900440036003000330031003600  Eufemia Cardwell   37      M   \n",
       "4  fffe43004900440031003900350030003600      Meghan Kosak   31      F   \n",
       "\n",
       "  security_no region_category  membership_category joining_date  \\\n",
       "0     XW0DQ7H         Village  Platinum Membership   2017-08-17   \n",
       "1     5K0N3X1            City   Premium Membership   2017-08-28   \n",
       "2     1F2TCL3            Town        No Membership   2016-11-11   \n",
       "3     VJGJ33N            City        No Membership   2016-10-29   \n",
       "4     SVZXCWB            City        No Membership   2017-09-12   \n",
       "\n",
       "  joined_through_referral referral_id     preferred_offer_types  \\\n",
       "0                      No    xxxxxxxx     Gift Vouchers/Coupons   \n",
       "1                       ?    CID21329     Gift Vouchers/Coupons   \n",
       "2                     Yes    CID12313     Gift Vouchers/Coupons   \n",
       "3                     Yes     CID3793     Gift Vouchers/Coupons   \n",
       "4                      No    xxxxxxxx  Credit/Debit Card Offers   \n",
       "\n",
       "  medium_of_operation internet_option last_visit_time  days_since_last_login  \\\n",
       "0                   ?           Wi-Fi        16:08:02                     17   \n",
       "1             Desktop     Mobile_Data        12:38:13                     16   \n",
       "2             Desktop           Wi-Fi        22:53:21                     14   \n",
       "3             Desktop     Mobile_Data        15:57:50                     11   \n",
       "4          Smartphone     Mobile_Data        15:46:44                     20   \n",
       "\n",
       "   avg_time_spent  avg_transaction_value avg_frequency_login_days  \\\n",
       "0          300.63               53005.25                     17.0   \n",
       "1          306.34               12838.38                     10.0   \n",
       "2          516.16               21027.00                     22.0   \n",
       "3           53.27               25239.56                      6.0   \n",
       "4          113.13               24483.66                     16.0   \n",
       "\n",
       "   points_in_wallet used_special_discount offer_application_preference  \\\n",
       "0            781.75                   Yes                          Yes   \n",
       "1               NaN                   Yes                           No   \n",
       "2            500.69                    No                          Yes   \n",
       "3            567.66                    No                          Yes   \n",
       "4            663.06                    No                          Yes   \n",
       "\n",
       "  past_complaint     complaint_status                  feedback  \\\n",
       "0             No       Not Applicable  Products always in Stock   \n",
       "1            Yes               Solved     Quality Customer Care   \n",
       "2            Yes  Solved in Follow-up              Poor Website   \n",
       "3            Yes             Unsolved              Poor Website   \n",
       "4            Yes               Solved              Poor Website   \n",
       "\n",
       "   churn_risk_score  \n",
       "0                 2  \n",
       "1                 1  \n",
       "2                 5  \n",
       "3                 5  \n",
       "4                 5  "
      ]
     },
     "execution_count": 6,
     "metadata": {},
     "output_type": "execute_result"
    }
   ],
   "source": [
    "import pandas as pd\n",
    "\n",
    "df = pd.read_csv('archive/train.csv')\n",
    "pd.set_option('display.max_columns', None)\n",
    "df.head()"
   ]
  },
  {
   "cell_type": "markdown",
   "id": "3c149a43",
   "metadata": {},
   "source": [
    "Como podemos ver en las primeras muestras, el dataset consiste en una serie de datos personales de clientes de una página web. Nuestro objetivo será predecir la \"churn_risk_score\", que es una medida del riesgo que hay de que el cliente abandone la página web en algún momento.\n",
    "\n",
    "Si nos fijamos en todos los datos que nos da el dataset, podemos ver que algunos de ellos son completamente irrelevantes: customer_id, name, security_no... Para asegurarnos completamente de ello, vamos a ver cual es el total de muestras de nuestro dataset y vamos a comprobar la cantidad de valores únicos para cada uno de los datos."
   ]
  },
  {
   "cell_type": "code",
   "execution_count": 7,
   "id": "f4a1f177",
   "metadata": {},
   "outputs": [
    {
     "data": {
      "text/plain": [
       "36992"
      ]
     },
     "execution_count": 7,
     "metadata": {},
     "output_type": "execute_result"
    }
   ],
   "source": [
    "df.shape[0]"
   ]
  },
  {
   "cell_type": "markdown",
   "id": "38a9de96",
   "metadata": {},
   "source": [
    "El número de muestras de nuestro dataset es de 36.992. Vamos a comprobar el número de valores únicos por dato."
   ]
  },
  {
   "cell_type": "code",
   "execution_count": 13,
   "id": "7bf358d9",
   "metadata": {},
   "outputs": [
    {
     "name": "stdout",
     "output_type": "stream",
     "text": [
      "customer_id : 36992\n",
      "Name : 36992\n",
      "age : 55\n",
      "gender : 3\n",
      "security_no : 36992\n",
      "region_category : 4\n",
      "membership_category : 6\n",
      "joining_date : 1096\n",
      "joined_through_referral : 3\n",
      "referral_id : 11359\n",
      "preferred_offer_types : 4\n",
      "medium_of_operation : 4\n",
      "internet_option : 3\n",
      "last_visit_time : 30101\n",
      "days_since_last_login : 27\n",
      "avg_time_spent : 25961\n",
      "avg_transaction_value : 36894\n",
      "avg_frequency_login_days : 1654\n",
      "points_in_wallet : 23700\n",
      "used_special_discount : 2\n",
      "offer_application_preference : 2\n",
      "past_complaint : 2\n",
      "complaint_status : 5\n",
      "feedback : 9\n",
      "churn_risk_score : 6\n"
     ]
    }
   ],
   "source": [
    "for col in df.columns:\n",
    "    print(col, \":\", len(df[col].unique()))"
   ]
  },
  {
   "cell_type": "markdown",
   "id": "7b6d1b04",
   "metadata": {},
   "source": [
    "Como podemos ver, aquellos datos que sean cualitativos y que tengan tantos valores únicos como muestras hay en el dataset los podemos eliminar. Estos son: customer_id, name, securiy_no y referral_id (este último se añade por ser un identificador, ya que no todos los clientes de las muestras tienen un referral_id). Por ahora, eliminamos los mencionados y dejamos el resto de columnas. "
   ]
  },
  {
   "cell_type": "code",
   "execution_count": 17,
   "id": "661ad80a",
   "metadata": {},
   "outputs": [
    {
     "data": {
      "text/html": [
       "<div>\n",
       "<style scoped>\n",
       "    .dataframe tbody tr th:only-of-type {\n",
       "        vertical-align: middle;\n",
       "    }\n",
       "\n",
       "    .dataframe tbody tr th {\n",
       "        vertical-align: top;\n",
       "    }\n",
       "\n",
       "    .dataframe thead th {\n",
       "        text-align: right;\n",
       "    }\n",
       "</style>\n",
       "<table border=\"1\" class=\"dataframe\">\n",
       "  <thead>\n",
       "    <tr style=\"text-align: right;\">\n",
       "      <th></th>\n",
       "      <th>age</th>\n",
       "      <th>gender</th>\n",
       "      <th>region_category</th>\n",
       "      <th>membership_category</th>\n",
       "      <th>joining_date</th>\n",
       "      <th>joined_through_referral</th>\n",
       "      <th>preferred_offer_types</th>\n",
       "      <th>medium_of_operation</th>\n",
       "      <th>internet_option</th>\n",
       "      <th>last_visit_time</th>\n",
       "      <th>days_since_last_login</th>\n",
       "      <th>avg_time_spent</th>\n",
       "      <th>avg_transaction_value</th>\n",
       "      <th>avg_frequency_login_days</th>\n",
       "      <th>points_in_wallet</th>\n",
       "      <th>used_special_discount</th>\n",
       "      <th>offer_application_preference</th>\n",
       "      <th>past_complaint</th>\n",
       "      <th>complaint_status</th>\n",
       "      <th>feedback</th>\n",
       "      <th>churn_risk_score</th>\n",
       "    </tr>\n",
       "  </thead>\n",
       "  <tbody>\n",
       "    <tr>\n",
       "      <th>0</th>\n",
       "      <td>18</td>\n",
       "      <td>F</td>\n",
       "      <td>Village</td>\n",
       "      <td>Platinum Membership</td>\n",
       "      <td>2017-08-17</td>\n",
       "      <td>No</td>\n",
       "      <td>Gift Vouchers/Coupons</td>\n",
       "      <td>?</td>\n",
       "      <td>Wi-Fi</td>\n",
       "      <td>16:08:02</td>\n",
       "      <td>17</td>\n",
       "      <td>300.63</td>\n",
       "      <td>53005.25</td>\n",
       "      <td>17.0</td>\n",
       "      <td>781.75</td>\n",
       "      <td>Yes</td>\n",
       "      <td>Yes</td>\n",
       "      <td>No</td>\n",
       "      <td>Not Applicable</td>\n",
       "      <td>Products always in Stock</td>\n",
       "      <td>2</td>\n",
       "    </tr>\n",
       "    <tr>\n",
       "      <th>1</th>\n",
       "      <td>32</td>\n",
       "      <td>F</td>\n",
       "      <td>City</td>\n",
       "      <td>Premium Membership</td>\n",
       "      <td>2017-08-28</td>\n",
       "      <td>?</td>\n",
       "      <td>Gift Vouchers/Coupons</td>\n",
       "      <td>Desktop</td>\n",
       "      <td>Mobile_Data</td>\n",
       "      <td>12:38:13</td>\n",
       "      <td>16</td>\n",
       "      <td>306.34</td>\n",
       "      <td>12838.38</td>\n",
       "      <td>10.0</td>\n",
       "      <td>NaN</td>\n",
       "      <td>Yes</td>\n",
       "      <td>No</td>\n",
       "      <td>Yes</td>\n",
       "      <td>Solved</td>\n",
       "      <td>Quality Customer Care</td>\n",
       "      <td>1</td>\n",
       "    </tr>\n",
       "    <tr>\n",
       "      <th>2</th>\n",
       "      <td>44</td>\n",
       "      <td>F</td>\n",
       "      <td>Town</td>\n",
       "      <td>No Membership</td>\n",
       "      <td>2016-11-11</td>\n",
       "      <td>Yes</td>\n",
       "      <td>Gift Vouchers/Coupons</td>\n",
       "      <td>Desktop</td>\n",
       "      <td>Wi-Fi</td>\n",
       "      <td>22:53:21</td>\n",
       "      <td>14</td>\n",
       "      <td>516.16</td>\n",
       "      <td>21027.00</td>\n",
       "      <td>22.0</td>\n",
       "      <td>500.69</td>\n",
       "      <td>No</td>\n",
       "      <td>Yes</td>\n",
       "      <td>Yes</td>\n",
       "      <td>Solved in Follow-up</td>\n",
       "      <td>Poor Website</td>\n",
       "      <td>5</td>\n",
       "    </tr>\n",
       "    <tr>\n",
       "      <th>3</th>\n",
       "      <td>37</td>\n",
       "      <td>M</td>\n",
       "      <td>City</td>\n",
       "      <td>No Membership</td>\n",
       "      <td>2016-10-29</td>\n",
       "      <td>Yes</td>\n",
       "      <td>Gift Vouchers/Coupons</td>\n",
       "      <td>Desktop</td>\n",
       "      <td>Mobile_Data</td>\n",
       "      <td>15:57:50</td>\n",
       "      <td>11</td>\n",
       "      <td>53.27</td>\n",
       "      <td>25239.56</td>\n",
       "      <td>6.0</td>\n",
       "      <td>567.66</td>\n",
       "      <td>No</td>\n",
       "      <td>Yes</td>\n",
       "      <td>Yes</td>\n",
       "      <td>Unsolved</td>\n",
       "      <td>Poor Website</td>\n",
       "      <td>5</td>\n",
       "    </tr>\n",
       "    <tr>\n",
       "      <th>4</th>\n",
       "      <td>31</td>\n",
       "      <td>F</td>\n",
       "      <td>City</td>\n",
       "      <td>No Membership</td>\n",
       "      <td>2017-09-12</td>\n",
       "      <td>No</td>\n",
       "      <td>Credit/Debit Card Offers</td>\n",
       "      <td>Smartphone</td>\n",
       "      <td>Mobile_Data</td>\n",
       "      <td>15:46:44</td>\n",
       "      <td>20</td>\n",
       "      <td>113.13</td>\n",
       "      <td>24483.66</td>\n",
       "      <td>16.0</td>\n",
       "      <td>663.06</td>\n",
       "      <td>No</td>\n",
       "      <td>Yes</td>\n",
       "      <td>Yes</td>\n",
       "      <td>Solved</td>\n",
       "      <td>Poor Website</td>\n",
       "      <td>5</td>\n",
       "    </tr>\n",
       "  </tbody>\n",
       "</table>\n",
       "</div>"
      ],
      "text/plain": [
       "   age gender region_category  membership_category joining_date  \\\n",
       "0   18      F         Village  Platinum Membership   2017-08-17   \n",
       "1   32      F            City   Premium Membership   2017-08-28   \n",
       "2   44      F            Town        No Membership   2016-11-11   \n",
       "3   37      M            City        No Membership   2016-10-29   \n",
       "4   31      F            City        No Membership   2017-09-12   \n",
       "\n",
       "  joined_through_referral     preferred_offer_types medium_of_operation  \\\n",
       "0                      No     Gift Vouchers/Coupons                   ?   \n",
       "1                       ?     Gift Vouchers/Coupons             Desktop   \n",
       "2                     Yes     Gift Vouchers/Coupons             Desktop   \n",
       "3                     Yes     Gift Vouchers/Coupons             Desktop   \n",
       "4                      No  Credit/Debit Card Offers          Smartphone   \n",
       "\n",
       "  internet_option last_visit_time  days_since_last_login  avg_time_spent  \\\n",
       "0           Wi-Fi        16:08:02                     17          300.63   \n",
       "1     Mobile_Data        12:38:13                     16          306.34   \n",
       "2           Wi-Fi        22:53:21                     14          516.16   \n",
       "3     Mobile_Data        15:57:50                     11           53.27   \n",
       "4     Mobile_Data        15:46:44                     20          113.13   \n",
       "\n",
       "   avg_transaction_value avg_frequency_login_days  points_in_wallet  \\\n",
       "0               53005.25                     17.0            781.75   \n",
       "1               12838.38                     10.0               NaN   \n",
       "2               21027.00                     22.0            500.69   \n",
       "3               25239.56                      6.0            567.66   \n",
       "4               24483.66                     16.0            663.06   \n",
       "\n",
       "  used_special_discount offer_application_preference past_complaint  \\\n",
       "0                   Yes                          Yes             No   \n",
       "1                   Yes                           No            Yes   \n",
       "2                    No                          Yes            Yes   \n",
       "3                    No                          Yes            Yes   \n",
       "4                    No                          Yes            Yes   \n",
       "\n",
       "      complaint_status                  feedback  churn_risk_score  \n",
       "0       Not Applicable  Products always in Stock                 2  \n",
       "1               Solved     Quality Customer Care                 1  \n",
       "2  Solved in Follow-up              Poor Website                 5  \n",
       "3             Unsolved              Poor Website                 5  \n",
       "4               Solved              Poor Website                 5  "
      ]
     },
     "execution_count": 17,
     "metadata": {},
     "output_type": "execute_result"
    }
   ],
   "source": [
    "df = df.drop(['customer_id', 'Name', 'security_no', 'referral_id'], axis=1)\n",
    "df.head()"
   ]
  },
  {
   "cell_type": "markdown",
   "id": "2139092b",
   "metadata": {},
   "source": [
    "Ya nos hemos deshecho de información irrelevante. Ahora vamos a analizar el dataset en busca de valores nulos, y vamos a decidir que hacer con ellos. Primero, chequeamos que columnas tienen valores nulos Nan."
   ]
  },
  {
   "cell_type": "code",
   "execution_count": 22,
   "id": "cddd5664",
   "metadata": {},
   "outputs": [
    {
     "name": "stdout",
     "output_type": "stream",
     "text": [
      "age : False --> 0\n",
      "gender : False --> 0\n",
      "region_category : True --> 5428\n",
      "membership_category : False --> 0\n",
      "joining_date : False --> 0\n",
      "joined_through_referral : False --> 0\n",
      "preferred_offer_types : True --> 288\n",
      "medium_of_operation : False --> 0\n",
      "internet_option : False --> 0\n",
      "last_visit_time : False --> 0\n",
      "days_since_last_login : False --> 0\n",
      "avg_time_spent : False --> 0\n",
      "avg_transaction_value : False --> 0\n",
      "avg_frequency_login_days : False --> 0\n",
      "points_in_wallet : True --> 3443\n",
      "used_special_discount : False --> 0\n",
      "offer_application_preference : False --> 0\n",
      "past_complaint : False --> 0\n",
      "complaint_status : False --> 0\n",
      "feedback : False --> 0\n",
      "churn_risk_score : False --> 0\n"
     ]
    }
   ],
   "source": [
    "for col in df.columns:\n",
    "    print(col, \":\", df[col].isnull().values.any(), \"-->\", df[col].isnull().sum())"
   ]
  },
  {
   "cell_type": "markdown",
   "id": "f2875a12",
   "metadata": {},
   "source": [
    "Tenemos muchos valores nulos en las columnas region_category y points_in_wallet, junto con algunos en preferred_offer_types. Vamos a examinar las tres columnas"
   ]
  },
  {
   "cell_type": "code",
   "execution_count": 23,
   "id": "8d7285d2",
   "metadata": {},
   "outputs": [
    {
     "name": "stdout",
     "output_type": "stream",
     "text": [
      "['Village' 'City' 'Town' nan]\n"
     ]
    }
   ],
   "source": [
    "print(df['region_category'].unique())"
   ]
  },
  {
   "cell_type": "markdown",
   "id": "00fb8749",
   "metadata": {},
   "source": [
    "Como solo hay cuatro categorias posibles en esta columna, y una gran parte de ellas son valores nulos, vamos a substituir los Nans por una nueva categoria que será 'Unknown'."
   ]
  },
  {
   "cell_type": "code",
   "execution_count": 26,
   "id": "d7c731c5",
   "metadata": {},
   "outputs": [
    {
     "name": "stdout",
     "output_type": "stream",
     "text": [
      "['Village' 'City' 'Town' 'Unknown']\n",
      "False --> 0\n"
     ]
    }
   ],
   "source": [
    "df['region_category'] = df['region_category'].fillna('Unknown')\n",
    "print(df['region_category'].unique())\n",
    "print(df['region_category'].isnull().values.any(), \"-->\", df['region_category'].isnull().sum())"
   ]
  },
  {
   "cell_type": "markdown",
   "id": "94799ebd",
   "metadata": {},
   "source": [
    "Vamos con points_in_wallet."
   ]
  },
  {
   "cell_type": "code",
   "execution_count": 29,
   "id": "cad7d630",
   "metadata": {},
   "outputs": [
    {
     "name": "stdout",
     "output_type": "stream",
     "text": [
      "23700\n"
     ]
    }
   ],
   "source": [
    "print(len(df['points_in_wallet'].unique()))"
   ]
  },
  {
   "cell_type": "markdown",
   "id": "d8d77018",
   "metadata": {},
   "source": [
    "Se trata de una columna cuyo valor es continuo y donde el 10% aproximadamente de las muestras son de un valor nulo. Podemos ver el histograma de valores y comprobar a ver si podemos substituir los valores por un valor representativo, o es mejor deshacernos de ellos."
   ]
  },
  {
   "cell_type": "code",
   "execution_count": 31,
   "id": "d7807efc",
   "metadata": {},
   "outputs": [
    {
     "data": {
      "text/plain": [
       "array([[<AxesSubplot:title={'center':'points_in_wallet'}>]], dtype=object)"
      ]
     },
     "execution_count": 31,
     "metadata": {},
     "output_type": "execute_result"
    },
    {
     "data": {
      "image/png": "[encoded data removed]",
      "text/plain": [
       "<Figure size 432x288 with 1 Axes>"
      ]
     },
     "metadata": {
      "needs_background": "light"
     },
     "output_type": "display_data"
    }
   ],
   "source": [
    "df.hist(column='points_in_wallet', bins=20)"
   ]
  },
  {
   "cell_type": "markdown",
   "id": "c15b33ce",
   "metadata": {},
   "source": [
    "Como podemos ver en el histograma, los valores estan muy concentrados en el centro. Por lo tanto, es buena idea sustituirlos por la media. De esta manera, evitamos la pérdida de un 10% de la información, a pesar de añadir redundancia en una de las columnas."
   ]
  },
  {
   "cell_type": "code",
   "execution_count": 32,
   "id": "2c248e57",
   "metadata": {},
   "outputs": [
    {
     "data": {
      "text/plain": [
       "array([[<AxesSubplot:title={'center':'points_in_wallet'}>]], dtype=object)"
      ]
     },
     "execution_count": 32,
     "metadata": {},
     "output_type": "execute_result"
    },
    {
     "data": {
      "image/png": "[encoded data removed]",
      "text/plain": [
       "<Figure size 432x288 with 1 Axes>"
      ]
     },
     "metadata": {
      "needs_background": "light"
     },
     "output_type": "display_data"
    }
   ],
   "source": [
    "df['points_in_wallet'] = df['points_in_wallet'].fillna(df['points_in_wallet'].mean())\n",
    "df.hist(column='points_in_wallet', bins=20)"
   ]
  },
  {
   "cell_type": "markdown",
   "id": "6f732607",
   "metadata": {},
   "source": [
    "Como podemos ver, la forma del histograma no ha cambiado de manera significativa. Vamos con la última columna con valores nulos, preferred_offer_types."
   ]
  },
  {
   "cell_type": "code",
   "execution_count": 33,
   "id": "2b9dc493",
   "metadata": {},
   "outputs": [
    {
     "name": "stdout",
     "output_type": "stream",
     "text": [
      "['Gift Vouchers/Coupons' 'Credit/Debit Card Offers' 'Without Offers' nan]\n"
     ]
    }
   ],
   "source": [
    "print(df['preferred_offer_types'].unique())"
   ]
  },
  {
   "cell_type": "markdown",
   "id": "9a047281",
   "metadata": {},
   "source": [
    "Como son muy pocas muestras (288) las que tienen valores nulos, podemos eliminarlas en lugar de modificar la información."
   ]
  },
  {
   "cell_type": "code",
   "execution_count": 37,
   "id": "0e2f1320",
   "metadata": {},
   "outputs": [
    {
     "name": "stdout",
     "output_type": "stream",
     "text": [
      "['Gift Vouchers/Coupons' 'Credit/Debit Card Offers' 'Without Offers']\n"
     ]
    },
    {
     "data": {
      "text/plain": [
       "36704"
      ]
     },
     "execution_count": 37,
     "metadata": {},
     "output_type": "execute_result"
    }
   ],
   "source": [
    "df = df[df['preferred_offer_types'].notna()]\n",
    "print(df['preferred_offer_types'].unique())\n",
    "df.shape[0]"
   ]
  },
  {
   "cell_type": "markdown",
   "id": "ceac395e",
   "metadata": {},
   "source": [
    "Una vez hecho esto, vamos a buscar valores en las columnas que estan fuera del rango que parece plausible (valores anómalos). Luego veremos que hacer con ellos. "
   ]
  },
  {
   "cell_type": "code",
   "execution_count": null,
   "id": "ad595d4c",
   "metadata": {},
   "outputs": [],
   "source": []
  }
 ],
 "metadata": {
  "kernelspec": {
   "display_name": "Python 3 (ipykernel)",
   "language": "python",
   "name": "python3"
  },
  "language_info": {
   "codemirror_mode": {
    "name": "ipython",
    "version": 3
   },
   "file_extension": ".py",
   "mimetype": "text/x-python",
   "name": "python",
   "nbconvert_exporter": "python",
   "pygments_lexer": "ipython3",
   "version": "3.8.8"
  }
 },
 "nbformat": 4,
 "nbformat_minor": 5
}
